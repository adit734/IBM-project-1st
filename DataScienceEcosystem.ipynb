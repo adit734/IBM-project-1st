{
 "cells": [
  {
   "cell_type": "markdown",
   "id": "7867ad31-a364-4fb0-abe9-112985070e72",
   "metadata": {},
   "source": [
    "# Data Science Tools and Ecosystem"
   ]
  },
  {
   "cell_type": "markdown",
   "id": "cc91861a-c6bf-4a08-9b37-8a9b3ba67629",
   "metadata": {},
   "source": [
    "In this notebook, Data Science Tools and Ecosystem are summarized."
   ]
  },
  {
   "cell_type": "markdown",
   "id": "8f0ad93b-1cd8-40e8-82fc-c8fd689c921c",
   "metadata": {},
   "source": [
    "Some of the popular languages that Data Scientists use are:\n",
    "1. Python\n",
    "2. R\n",
    "3. SQL\n",
    "4. Julia\n",
    "5. Java"
   ]
  },
  {
   "cell_type": "markdown",
   "id": "c46231d2-b3e6-43cf-98d9-e3e07e296a4b",
   "metadata": {},
   "source": [
    "Some of the commonly used libraries used by Data Scientists include:\n",
    "1. Pandas\n",
    "2. NumPy\n",
    "3. Matplotlib\n",
    "4. Scikit-learn\n",
    "5. TensorFlow"
   ]
  },
  {
   "cell_type": "markdown",
   "id": "38a10f37-c898-4e1d-a2c5-62c46e3ced91",
   "metadata": {},
   "source": [
    "| Data Science Tools |\n",
    "|--------------------|\n",
    "| Jupyter Notebook   |\n",
    "| RStudio            |\n",
    "| Apache Zeppelin    |"
   ]
  },
  {
   "cell_type": "markdown",
   "id": "001ad7f0-7b46-4cfe-8f0a-c8c34c6a6fd3",
   "metadata": {},
   "source": [
    "### Below are a few examples of evaluating arithmetic expressions in Python.\n"
   ]
  },
  {
   "cell_type": "code",
   "execution_count": 24,
   "id": "3d400443-c677-4f6e-bc58-cb3afee89c61",
   "metadata": {},
   "outputs": [
    {
     "data": {
      "text/plain": [
       "17"
      ]
     },
     "execution_count": 24,
     "metadata": {},
     "output_type": "execute_result"
    }
   ],
   "source": [
    "# This a simple arithmetic expression to multiply then add integers\n",
    "(3 * 4) + 5"
   ]
  },
  {
   "cell_type": "code",
   "execution_count": 26,
   "id": "b7c5bc93-1427-4eff-8c5c-1bda6b91fef7",
   "metadata": {},
   "outputs": [
    {
     "data": {
      "text/plain": [
       "3.3333333333333335"
      ]
     },
     "execution_count": 26,
     "metadata": {},
     "output_type": "execute_result"
    }
   ],
   "source": [
    "# This will convert 200 minutes to hours by dividing by 60\n",
    "200 / 60"
   ]
  },
  {
   "cell_type": "markdown",
   "id": "0b5b268f-8351-472c-bc5b-52157ed17b1a",
   "metadata": {},
   "source": [
    "**Objectives:**\n",
    "- List popular languages for Data Science\n",
    "- List commonly used libraries in Data Science\n",
    "- Create and evaluate arithmetic expressions in Python\n",
    "- List commonly used tools in Data Science"
   ]
  },
  {
   "cell_type": "markdown",
   "id": "47ca582e-895c-48f3-85ca-33f3a5b8ceeb",
   "metadata": {},
   "source": [
    "## Author\n",
    "Your Name"
   ]
  },
  {
   "cell_type": "code",
   "execution_count": null,
   "id": "5c6e8f5d-604c-4798-a112-8db3e07a2e77",
   "metadata": {},
   "outputs": [],
   "source": []
  }
 ],
 "metadata": {
  "kernelspec": {
   "display_name": "Python 3 (ipykernel)",
   "language": "python",
   "name": "python3"
  },
  "language_info": {
   "codemirror_mode": {
    "name": "ipython",
    "version": 3
   },
   "file_extension": ".py",
   "mimetype": "text/x-python",
   "name": "python",
   "nbconvert_exporter": "python",
   "pygments_lexer": "ipython3",
   "version": "3.11.7"
  }
 },
 "nbformat": 4,
 "nbformat_minor": 5
}
